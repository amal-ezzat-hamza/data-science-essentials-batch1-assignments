{
 "cells": [
  {
   "cell_type": "markdown",
   "metadata": {},
   "source": [
    "# Questions 1:\n",
    "Create an empty list. Accept 10 numbers from the user and append to it the list if it is an even number."
   ]
  },
  {
   "cell_type": "code",
   "execution_count": 1,
   "metadata": {},
   "outputs": [
    {
     "name": "stdout",
     "output_type": "stream",
     "text": [
      "1\n",
      "2\n",
      "3\n",
      "4\n",
      "5\n",
      "6\n",
      "7\n",
      "8\n",
      "9\n",
      "0\n",
      "2,4,6,8,0,"
     ]
    }
   ],
   "source": [
    "\n",
    "numbers = []\n",
    "for item in range(0,10):\n",
    "  value = int(input())\n",
    "  if value % 2 == 0 :\n",
    "     numbers.append(value)\n",
    "\n",
    "for item in numbers:\n",
    "    print(item , end = \",\")"
   ]
  },
  {
   "cell_type": "code",
   "execution_count": 2,
   "metadata": {},
   "outputs": [
    {
     "name": "stdout",
     "output_type": "stream",
     "text": [
      "22\n",
      "33\n",
      "45\n",
      "27\n",
      "90\n",
      "12\n",
      "44\n",
      "667\n",
      "29\n",
      "27\n",
      "22,90,12,44,"
     ]
    }
   ],
   "source": [
    "numbers = []\n",
    "n = 0\n",
    "while n < 10 :\n",
    "    value = int(input())\n",
    "    if value % 2 == 0 :\n",
    "        numbers.append(value)\n",
    "    n += 1\n",
    "\n",
    "for item in numbers:\n",
    "    print(item , end = \",\")"
   ]
  },
  {
   "cell_type": "markdown",
   "metadata": {},
   "source": [
    "# Questions 2:\n",
    "Create a notebook on LIST COMPREHENSION. This exercise is to put you in a Self learning mode"
   ]
  },
  {
   "cell_type": "code",
   "execution_count": 1,
   "metadata": {},
   "outputs": [
    {
     "name": "stdout",
     "output_type": "stream",
     "text": [
      "[1, 4, 9, 16, 25]\n"
     ]
    }
   ],
   "source": [
    "numbers = [1, 2, 3, 4, 5]\n",
    "squares = [number**2 for number in numbers]\n",
    "print(squares)"
   ]
  },
  {
   "cell_type": "markdown",
   "metadata": {},
   "source": [
    "# Questions 3:\n",
    "In this assignment, given a number n, you have to write a program that generates a dictionary d which\n",
    "contains (i, i*i), where i is from 1 to n (both included).\n",
    "Then you have to just print this dictionary d."
   ]
  },
  {
   "cell_type": "code",
   "execution_count": 2,
   "metadata": {},
   "outputs": [
    {
     "name": "stdout",
     "output_type": "stream",
     "text": [
      "Input a number 4\n",
      "{1: 1, 2: 4, 3: 9, 4: 16}\n"
     ]
    }
   ],
   "source": [
    "n=int(input(\"Input a number \"))\n",
    "d = dict()\n",
    "\n",
    "for x in range(1,n+1):\n",
    "    d[x]=x*x\n",
    "\n",
    "print(d) "
   ]
  },
  {
   "cell_type": "markdown",
   "metadata": {},
   "source": [
    "# Questions 4:\n",
    "There is a robot which wants to go the charging point to charge itself.\n",
    "The robot moves in a 2-D plane from the original point (0,0). The robot can\n",
    "move toward UP, DOWN, LEFT and RIGHT with given steps.\n",
    "The trace of robot movement is shown as the following:\n",
    "UP 5\n",
    "DOWN 3\n",
    "LEFT 3\n",
    "RIGHT 2\n",
    "Then, the output of the program should be:\n",
    "2\n",
    "The numbers after the direction are steps.\n",
    "Write a program to compute the distance between the current position after\n",
    "a sequence of movement and original point. If the distance is a float, then\n",
    "just print the nearest integer (use round() function for that and then convert\n",
    "it into an integer)."
   ]
  },
  {
   "cell_type": "code",
   "execution_count": 20,
   "metadata": {},
   "outputs": [
    {
     "name": "stdout",
     "output_type": "stream",
     "text": [
      "4\n",
      "up 5 \n",
      " \n",
      "down 3 \n",
      " \n",
      "left 3 \n",
      " \n",
      "right 2 \n",
      " \n"
     ]
    }
   ],
   "source": [
    "import math\n",
    "\n",
    "n = int(input())\n",
    "steps = [['up', 5], ['down', 3], ['left', 3], ['right', 2]]\n",
    "\n",
    "for i in range(rows):\n",
    "    for j in range(columns):\n",
    "        print(f\"{steps[i][j]}\" , end = \" \")\n",
    "    print(\"\\n \")\n",
    "\n",
    "initial_pos = [0,0]\n"
   ]
  },
  {
   "cell_type": "code",
   "execution_count": 14,
   "metadata": {},
   "outputs": [],
   "source": [
    "rows = 4\n",
    "columns = 2\n",
    "for i in range(rows):\n",
    "    for j in range(columns):\n",
    "        if steps[i][j] == 'up':\n",
    "            initial_pos[1] = initial_pos[1] + steps[0][1]\n",
    "       \n",
    "        elif steps[i][j] == 'down':\n",
    "            initial_pos[1] = initial_pos[1] - steps[1][1]\n",
    "        \n",
    "        elif steps[i][j] == 'left':\n",
    "            initial_pos[0] = initial_pos[0] - steps[2][1]\n",
    "            \n",
    "        elif steps[i][j] == 'right':\n",
    "            initial_pos[0] = initial_pos[0] + steps[3][1]\n",
    "\n",
    "\n",
    "     "
   ]
  },
  {
   "cell_type": "code",
   "execution_count": 15,
   "metadata": {},
   "outputs": [],
   "source": [
    "final_position = initial_pos"
   ]
  },
  {
   "cell_type": "code",
   "execution_count": 21,
   "metadata": {},
   "outputs": [
    {
     "name": "stdout",
     "output_type": "stream",
     "text": [
      "2\n"
     ]
    }
   ],
   "source": [
    "distance = math.sqrt( ((0 - final_position[0])**2) + (( 0 - final_position[1])**2) )\n",
    "\n",
    "print(int(distance))"
   ]
  },
  {
   "cell_type": "code",
   "execution_count": null,
   "metadata": {},
   "outputs": [],
   "source": []
  }
 ],
 "metadata": {
  "kernelspec": {
   "display_name": "Python 3",
   "language": "python",
   "name": "python3"
  },
  "language_info": {
   "codemirror_mode": {
    "name": "ipython",
    "version": 3
   },
   "file_extension": ".py",
   "mimetype": "text/x-python",
   "name": "python",
   "nbconvert_exporter": "python",
   "pygments_lexer": "ipython3",
   "version": "3.7.4"
  }
 },
 "nbformat": 4,
 "nbformat_minor": 2
}
